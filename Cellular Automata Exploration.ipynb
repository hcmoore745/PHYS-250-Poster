{
 "cells": [
  {
   "cell_type": "markdown",
   "metadata": {},
   "source": [
    "### 1D CA Basics:\n",
    "\n",
    "We first explore the implementation and emergent behavior of one-dimensional cellular automata.  In one dimension, a CA is a row of cells which can each take one of two states--zero and one.  The CA evolves in discrete timesteps, and with each evolution, the new state of a given cell is a function only of the former states of the cells in its \"neighborhood.\"  \n",
    "\n",
    "We will apply periodic boundary conditions to these cases, and will take the neighborhood of a cell to be itself and its immediate neighbors.   We will use the following convention, established by Wolfram, in referencing the 256 possible functions which determine the evolution of the system.\n",
    "\n",
    "Consider the eight possible 3-cell neighborhood configurations in the following order: \n",
    "111, 110, 101, 100, 011, 010, 001, 000. \n",
    "Each of these must result either in a zero or a one in the next timestep. When each of these outputs is listed in the same order as above, an eight-digit binary number is thus specified.  This number is converted to an integer i, and the function is called \"Rule i\""
   ]
  },
  {
   "cell_type": "code",
   "execution_count": 58,
   "metadata": {},
   "outputs": [],
   "source": [
    "# We'll first create functions to initialize a one-dimensional grid of cells and to represent the evolution rules\n",
    "\n",
    "import numpy as np\n",
    "import matplotlib.pyplot as plt\n",
    "\n",
    "def create_1d_grid(length):\n",
    "    '''\n",
    "    Creates a 1d grid of specified length\n",
    "    \n",
    "    length: (int) number of cells in grid\n",
    "    '''\n",
    "    return np. zeros(length)\n",
    "\n",
    "\n",
    "\n",
    "\n",
    "def rule(integer):\n",
    "    '''\n",
    "    Takes an integer between 0 and 256 and returns a dictionary relating the 8 three digit binary numbers (as strings)\n",
    "    to either zero or one\n",
    "    \n",
    "    integer: (int) integer between 0 and 256\n",
    "    '''\n",
    "    mapping = {}\n",
    "    for i in range(8):\n",
    "        mapping[str(format(i, '03b'))] = int(format(integer, '08b')[7 - i])\n",
    "        \n",
    "    return mapping\n",
    "    \n",
    "    \n",
    "#Now we make the simple function which applies the rule to a specific number\n",
    "\n",
    "def evolve_one_cell(mapping, binary):\n",
    "    '''\n",
    "    Takes in a three-digit binary number and a dictionary output by rule and returns either zero or 1 based on the \n",
    "    correspondence described above\n",
    "    \n",
    "    mapping: (dict) dictionary output by the rule function\n",
    "    binary: (string) three digit binary number as a string\n",
    "    \n",
    "    returns: (int) 0 or 1\n",
    "    '''\n",
    "    \n",
    "    return mapping[binary]"
   ]
  },
  {
   "cell_type": "code",
   "execution_count": 22,
   "metadata": {},
   "outputs": [
    {
     "name": "stdout",
     "output_type": "stream",
     "text": [
      "{'000': 0, '001': 0, '010': 0, '011': 1, '100': 0, '101': 1, '110': 0, '111': 0}\n"
     ]
    },
    {
     "data": {
      "text/plain": [
       "1"
      ]
     },
     "execution_count": 22,
     "metadata": {},
     "output_type": "execute_result"
    }
   ],
   "source": [
    "print(rule(40))      #test that the functions work as expected\n",
    "\n",
    "evolve_one_cell(rule(40), '011')"
   ]
  },
  {
   "cell_type": "code",
   "execution_count": 51,
   "metadata": {},
   "outputs": [],
   "source": [
    "#We now create a function that simulates a one-dimensional CA for n steps and returns a two-dimensional array, where the \n",
    "#first column is the 1d array at step 0, the second step 1 and so on\n",
    "\n",
    "def simulate_1d_CA(grid, int_rule, n_steps):\n",
    "    '''\n",
    "    Simulates a one-dimensional CA for n_steps on a given grid under a given rule\n",
    "    \n",
    "    grid: (array) starting configuration of arbitrary length\n",
    "    int_rule: (int) integer between 0 and 256 which determines evolution rules\n",
    "    n_steps: (int) number of time steps to simulate\n",
    "    '''\n",
    "    \n",
    "    output_array = []\n",
    "    \n",
    "    mapping = rule(int_rule)\n",
    "    \n",
    "    for i in range(n_steps):\n",
    "        new_row = []\n",
    "        for j in range(len(grid)):\n",
    "            binary_string = str(grid[j - 1])[0] + str(grid[j])[0] + str(grid[(j + 1) % len(grid)])[0]\n",
    "           \n",
    "            new_row.append(evolve_one_cell(mapping, binary_string))\n",
    "            \n",
    "        output_array.append(new_row)\n",
    "        grid = new_row\n",
    "        \n",
    "    return np.array(output_array)"
   ]
  },
  {
   "cell_type": "code",
   "execution_count": 62,
   "metadata": {},
   "outputs": [
    {
     "data": {
      "image/png": "[encoded data removed]",
      "text/plain": [
       "<Figure size 432x288 with 1 Axes>"
      ]
     },
     "metadata": {
      "needs_background": "light"
     },
     "output_type": "display_data"
    }
   ],
   "source": [
    "x = create_1d_grid(40)\n",
    "x[2] = 1\n",
    "x[7] = 1\n",
    "\n",
    "y = simulate_1d_CA(x, 9, 20)\n",
    "\n",
    "fig = plt.figure()\n",
    "im = plt.imshow(y)"
   ]
  },
  {
   "cell_type": "code",
   "execution_count": 45,
   "metadata": {},
   "outputs": [
    {
     "data": {
      "text/plain": [
       "'101000'"
      ]
     },
     "execution_count": 45,
     "metadata": {},
     "output_type": "execute_result"
    }
   ],
   "source": [
    "format(40, 'b')"
   ]
  },
  {
   "cell_type": "code",
   "execution_count": null,
   "metadata": {},
   "outputs": [],
   "source": []
  }
 ],
 "metadata": {
  "kernelspec": {
   "display_name": "Python 3",
   "language": "python",
   "name": "python3"
  },
  "language_info": {
   "codemirror_mode": {
    "name": "ipython",
    "version": 3
   },
   "file_extension": ".py",
   "mimetype": "text/x-python",
   "name": "python",
   "nbconvert_exporter": "python",
   "pygments_lexer": "ipython3",
   "version": "3.7.0"
  }
 },
 "nbformat": 4,
 "nbformat_minor": 2
}
