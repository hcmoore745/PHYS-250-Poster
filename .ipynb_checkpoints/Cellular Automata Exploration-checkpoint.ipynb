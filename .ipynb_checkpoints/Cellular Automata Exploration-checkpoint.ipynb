{
 "cells": [
  {
   "cell_type": "markdown",
   "metadata": {},
   "source": [
    "### 1D CA Basics:\n",
    "\n",
    "We first explore the implementation and emergent behavior of one-dimensional cellular automata.  In one dimension, a CA is a row of cells which can each take one of two states--zero and one.  The CA evolves in discrete timesteps, and with each evolution, the new state of a given cell is a function only of the former states of the cells in its \"neighborhood.\"  \n",
    "\n",
    "We will apply periodic boundary conditions to these cases, and will take the neighborhood of a cell to be itself and its immediate neighbors.   We will use the following convention, established by Wolfram, in referencing the 256 possible functions which determine the evolution of the system.\n",
    "\n",
    "Consider the eight possible 3-cell neighborhood configurations in the following order: \n",
    "111, 110, 101, 100, 011, 010, 001, 000. \n",
    "Each of these must result either in a zero or a one in the next timestep. When each of these outputs is listed in the same order as above, an eight-digit binary number is thus specified.  This number is converted to an integer i, and the function is called \"Rule i\""
   ]
  },
  {
   "cell_type": "code",
   "execution_count": 6,
   "metadata": {},
   "outputs": [],
   "source": [
    "# We'll first create functions to initialize a one-dimensional grid of cells and to represent the evolution rules\n",
    "\n",
    "import numpy as np\n",
    "import matplotlib.pyplot as plt\n",
    "\n",
    "def create_1d_grid(length):\n",
    "    '''\n",
    "    Creates a 1d grid of specified length\n",
    "    \n",
    "    length: (int) number of cells in grid\n",
    "    '''\n",
    "    return np. zeros(length)\n",
    "\n",
    "\n",
    "\n",
    "\n",
    "def rule(integer):\n",
    "    '''\n",
    "    Takes an integer between 0 and 256 and returns a dictionary relating the 8 three digit binary numbers (as strings)\n",
    "    to either zero or one\n",
    "    \n",
    "    integer: (int) integer between 0 and 256\n",
    "    '''\n",
    "    mapping = {}\n",
    "    for i in range(8):\n",
    "        mapping[str(format(i, '03b'))] = int(format(integer, '08b')[7 - i])\n",
    "        \n",
    "    return mapping\n",
    "    \n",
    "    \n",
    "#Now we make the simple function which applies the rule to a specific number\n",
    "\n",
    "def evolve_one_cell(mapping, binary):\n",
    "    '''\n",
    "    Takes in a three-digit binary number and a dictionary output by rule and returns either zero or 1 based on the \n",
    "    correspondence described above\n",
    "    \n",
    "    mapping: (dict) dictionary output by the rule function\n",
    "    binary: (string) three digit binary number as a string\n",
    "    \n",
    "    returns: (int) 0 or 1\n",
    "    '''\n",
    "    \n",
    "    return mapping[binary]"
   ]
  },
  {
   "cell_type": "code",
   "execution_count": 7,
   "metadata": {},
   "outputs": [
    {
     "name": "stdout",
     "output_type": "stream",
     "text": [
      "{'000': 0, '001': 0, '010': 0, '011': 1, '100': 0, '101': 1, '110': 0, '111': 0}\n"
     ]
    },
    {
     "data": {
      "text/plain": [
       "1"
      ]
     },
     "execution_count": 7,
     "metadata": {},
     "output_type": "execute_result"
    }
   ],
   "source": [
    "print(rule(40))      #test that the functions work as expected\n",
    "\n",
    "evolve_one_cell(rule(40), '011')"
   ]
  },
  {
   "cell_type": "code",
   "execution_count": 8,
   "metadata": {},
   "outputs": [],
   "source": [
    "#We now create a function that simulates a one-dimensional CA for n steps and returns a two-dimensional array, where the \n",
    "#first column is the 1d array at step 0, the second step 1 and so on\n",
    "\n",
    "def simulate_1d_CA(grid, int_rule, n_steps):\n",
    "    '''\n",
    "    Simulates a one-dimensional CA for n_steps on a given grid under a given rule\n",
    "    \n",
    "    grid: (array) starting configuration of arbitrary length\n",
    "    int_rule: (int) integer between 0 and 256 which determines evolution rules\n",
    "    n_steps: (int) number of time steps to simulate\n",
    "    '''\n",
    "    \n",
    "    output_array = []\n",
    "    output_array.append(grid)\n",
    "    mapping = rule(int_rule)\n",
    "    \n",
    "    for i in range(n_steps):\n",
    "        new_row = []\n",
    "        for j in range(len(grid)):\n",
    "            binary_string = str(grid[j - 1])[0] + str(grid[j])[0] + str(grid[(j + 1) % len(grid)])[0]\n",
    "           \n",
    "            new_row.append(evolve_one_cell(mapping, binary_string))\n",
    "            \n",
    "        output_array.append(new_row)\n",
    "        grid = new_row\n",
    "        \n",
    "    return np.array(output_array)"
   ]
  },
  {
   "cell_type": "code",
   "execution_count": 127,
   "metadata": {},
   "outputs": [
    {
     "data": {
      "image/png": "[encoded data removed]",
      "text/plain": [
       "<Figure size 432x288 with 1 Axes>"
      ]
     },
     "metadata": {
      "needs_background": "light"
     },
     "output_type": "display_data"
    }
   ],
   "source": [
    "x = create_1d_grid(40)     #test the function \n",
    "x[2] = 1\n",
    "x[7] = 1\n",
    "\n",
    "y = simulate_1d_CA(x, 9, 20)\n",
    "len(y)\n",
    "im = plt.imshow(y)\n",
    "plt.yticks(np.linspace(0, 20, 11))\n",
    "plt.show()"
   ]
  },
  {
   "cell_type": "code",
   "execution_count": 125,
   "metadata": {},
   "outputs": [],
   "source": [
    "# Make the plotting procedure above into a function\n",
    "\n",
    "import matplotlib.patches as mpatches\n",
    "\n",
    "def plot_1d_CA(grid, int_rule, n_steps, sequence_start = None, just_sequence = False):\n",
    "    '''\n",
    "    Plots the evolution in time of a 1d cellular automaton\n",
    "    \n",
    "    grid: (array) as above\n",
    "    int_rule: (int) as above\n",
    "    n_steps: (int) as above\n",
    "    sequence_start: (int) if not None, then returns a sequence of integers read out in binary starting with the position\n",
    "        specified, moving down the rows\n",
    "    '''\n",
    "    \n",
    "    y = simulate_1d_CA(grid, int_rule, n_steps)\n",
    "    \n",
    "    if just_sequence == False:\n",
    "        fig = plt.figure()\n",
    "        im = plt.imshow(y, cmap = 'cividis')\n",
    "        if n_steps < 50:\n",
    "            plt.yticks(np.arange(n_steps / 2 + 1) * 2)\n",
    "    \n",
    "        plt.title('1D CA--Rule %d' %(int_rule))\n",
    "        plt.xlabel('Cell Index')\n",
    "        plt.ylabel('Timesteps')\n",
    "    \n",
    "        #The following three lines are based on code found at \n",
    "        #https://stackoverflow.com/questions/25482876/how-to-add-legend-to-imshow-in-matplotlib\n",
    "        colors = [im.cmap(im.norm(value)) for value in [0, 1]] \n",
    "        patches = [mpatches.Patch(color=colors[0], label=\"Zero\"), mpatches.Patch(color=colors[1], label = 'One')]\n",
    "        plt.legend(handles=patches, bbox_to_anchor=(1.05, 1), loc=2, borderaxespad=0.)\n",
    "    \n",
    "    #return the integer sequence:\n",
    "    if sequence_start != None:\n",
    "        sequence = []\n",
    "        for l, i in enumerate(y):\n",
    "            count = 0 \n",
    "            multiplier = 2 ** l\n",
    "            for j in range(min(l + 1, len(i) - sequence_start)):\n",
    "                count += multiplier * i[sequence_start + j % len(i)]\n",
    "                multiplier = multiplier * 1/2\n",
    "            if len(sequence) > 0:\n",
    "                if count == sequence[-1]:\n",
    "                    break\n",
    "            sequence.append(count)\n",
    "        return sequence\n",
    "    "
   ]
  },
  {
   "cell_type": "code",
   "execution_count": 52,
   "metadata": {},
   "outputs": [
    {
     "data": {
      "image/png": "[encoded data removed]",
      "text/plain": [
       "<Figure size 432x288 with 1 Axes>"
      ]
     },
     "metadata": {
      "needs_background": "light"
     },
     "output_type": "display_data"
    }
   ],
   "source": [
    "z = create_1d_grid(50)\n",
    "z[25] = 1\n",
    "plot_1d_CA(z, 22, 30)"
   ]
  },
  {
   "cell_type": "code",
   "execution_count": 114,
   "metadata": {},
   "outputs": [
    {
     "data": {
      "text/plain": [
       "{'000': 0,\n",
       " '001': 1,\n",
       " '010': 1,\n",
       " '011': 0,\n",
       " '100': 1,\n",
       " '101': 0,\n",
       " '110': 0,\n",
       " '111': 0}"
      ]
     },
     "execution_count": 114,
     "metadata": {},
     "output_type": "execute_result"
    }
   ],
   "source": [
    "rule(22)     #By looking at rule 22, we can see why the above pattern has a large void where it does; \n",
    "             #in that row, between the leftmost and rightmost one values, there are no\n",
    "             #no zeros which aren't between two ones, and in the rule, all the numbers with only one zero, as well as 111,\n",
    "             #produce a zero"
   ]
  },
  {
   "cell_type": "code",
   "execution_count": 124,
   "metadata": {},
   "outputs": [
    {
     "data": {
      "text/plain": [
       "[1.0,\n",
       " 3.0,\n",
       " 5.0,\n",
       " 11.0,\n",
       " 21.0,\n",
       " 43.0,\n",
       " 85.0,\n",
       " 171.0,\n",
       " 341.0,\n",
       " 683.0,\n",
       " 1365.0,\n",
       " 2731.0,\n",
       " 5461.0,\n",
       " 10923.0,\n",
       " 21845.0,\n",
       " 43691.0,\n",
       " 87381.0,\n",
       " 174763.0,\n",
       " 349525.0,\n",
       " 699051.0,\n",
       " 1398101.0,\n",
       " 2796203.0,\n",
       " 5592405.0,\n",
       " 11184811.0,\n",
       " 22369621.0,\n",
       " 44739243.0,\n",
       " 89478485.0,\n",
       " 178956971.0,\n",
       " 357913941.0,\n",
       " 715827882.0,\n",
       " 1431655764.0,\n",
       " 2863311528.0,\n",
       " 5726623056.0,\n",
       " 11453246112.0,\n",
       " 22906492224.0,\n",
       " 45812984448.0,\n",
       " 91625968896.0,\n",
       " 183251937792.0,\n",
       " 366503875584.0,\n",
       " 733007751168.0,\n",
       " 1466015502336.0,\n",
       " 2932031004672.0,\n",
       " 5864062009344.0,\n",
       " 11728124018688.0,\n",
       " 23456248037376.0,\n",
       " 46912496074752.0,\n",
       " 93824992149504.0,\n",
       " 187649984299008.0,\n",
       " 375299968598016.0,\n",
       " 750599937196032.0,\n",
       " 1501199874392064.0,\n",
       " 3002399748784128.0,\n",
       " 6004799497568256.0,\n",
       " 1.2009598995136512e+16,\n",
       " 2.4019197990273024e+16,\n",
       " 4.803839598054605e+16,\n",
       " 9.60767919610921e+16,\n",
       " 1.921535839221842e+17,\n",
       " 3.843071678443684e+17,\n",
       " 7.686143356887368e+17,\n",
       " 1.5372286713774735e+18]"
      ]
     },
     "execution_count": 124,
     "metadata": {},
     "output_type": "execute_result"
    },
    {
     "data": {
      "image/png": "[encoded data removed]",
      "text/plain": [
       "<Figure size 432x288 with 1 Axes>"
      ]
     },
     "metadata": {
      "needs_background": "light"
     },
     "output_type": "display_data"
    }
   ],
   "source": [
    "#Have now added a sequence output to the plot function which converts sets of cells to integers beginning at a \n",
    "#specified starting position (where 1 cell 'on' initially) \n",
    "z = create_1d_grid(30)\n",
    "z[0] = 1\n",
    "plot_1d_CA(z, 28, 60, sequence_start = 0)"
   ]
  },
  {
   "cell_type": "code",
   "execution_count": 102,
   "metadata": {},
   "outputs": [],
   "source": [
    "#Let's try to visualize the divergence of each of these sequences.  We'll look at all even numbered rules up to 100, plotting\n",
    "#the spacing between integers in their respective sequences\n",
    "\n",
    "z = create_1d_grid(100)\n",
    "z[49] = 1\n",
    "gaps = {}\n",
    "for i in (np.arange(1, 51) * 2):\n",
    "    y = plot_1d_CA(z, i, 50, sequence_start = 49, just_sequence = True)\n",
    "    gaps_in_y = []\n",
    "    for j, v in enumerate(y):\n",
    "        if j != 0:\n",
    "            gaps_in_y.append(v - y[j-1])\n",
    "    gaps[i] = gaps_in_y\n",
    "    \n",
    "kept_gaps = {}\n",
    "for key in gaps:\n",
    "    if len(gaps[key]) > 30 and np.alltrue(np.array(gaps[key]) > 0):\n",
    "        kept_gaps[key] = gaps[key]\n",
    "    \n"
   ]
  },
  {
   "cell_type": "code",
   "execution_count": 117,
   "metadata": {},
   "outputs": [
    {
     "data": {
      "image/png": "[encoded data removed]",
      "text/plain": [
       "<Figure size 432x288 with 1 Axes>"
      ]
     },
     "metadata": {
      "needs_background": "light"
     },
     "output_type": "display_data"
    },
    {
     "data": {
      "image/png": "[encoded data removed]",
      "text/plain": [
       "<Figure size 432x288 with 1 Axes>"
      ]
     },
     "metadata": {
      "needs_background": "light"
     },
     "output_type": "display_data"
    }
   ],
   "source": [
    "fig = plt.figure()\n",
    "for i in kept_gaps:\n",
    "    plt.plot(np.arange(1, len(kept_gaps[i][:10])+1), kept_gaps[i][:10], label = 'Rule {}'.format(i))\n",
    "plt.legend()\n",
    "plt.show()\n",
    "\n",
    "fig2 = plt.figure()\n",
    "for i in kept_gaps:\n",
    "    plt.plot(np.arange(1, len(kept_gaps[i][:40])+1), kept_gaps[i][:40], label = 'Rule {}'.format(i))\n",
    "plt.legend()\n",
    "plt.xlim([0, 40])\n",
    "plt.show()"
   ]
  },
  {
   "cell_type": "code",
   "execution_count": 113,
   "metadata": {},
   "outputs": [
    {
     "data": {
      "text/plain": [
       "[2.0,\n",
       " 2.0,\n",
       " 10.0,\n",
       " 2.0,\n",
       " 34.0,\n",
       " 34.0,\n",
       " 170.0,\n",
       " 2.0,\n",
       " 514.0,\n",
       " 514.0,\n",
       " 2570.0,\n",
       " 514.0,\n",
       " 8738.0,\n",
       " 8738.0,\n",
       " 43690.0,\n",
       " 2.0,\n",
       " 131074.0,\n",
       " 131074.0,\n",
       " 655370.0,\n",
       " 131074.0,\n",
       " 2228258.0,\n",
       " 2228258.0,\n",
       " 11141290.0,\n",
       " 131074.0,\n",
       " 33686018.0,\n",
       " 33686018.0,\n",
       " 168430090.0,\n",
       " 33686018.0,\n",
       " 572662306.0,\n",
       " 572662306.0,\n",
       " 2863311530.0,\n",
       " 2.0,\n",
       " 8589934594.0,\n",
       " 8589934594.0,\n",
       " 42949672970.0,\n",
       " 8589934594.0,\n",
       " 146028888098.0,\n",
       " 146028888098.0,\n",
       " 730144440490.0,\n",
       " 8589934594.0,\n",
       " 2207613190658.0,\n",
       " 2207613190658.0,\n",
       " 11038065953290.0,\n",
       " 2207613190658.0,\n",
       " 37529424241186.0,\n",
       " 37529424241186.0,\n",
       " 187647121205930.0,\n",
       " 8589934594.0,\n",
       " 562958543486978.0,\n",
       " 562958543486978.0]"
      ]
     },
     "execution_count": 113,
     "metadata": {},
     "output_type": "execute_result"
    }
   ],
   "source": [
    "#we can see that the behavior is largely similar for many of the rules which produce nondecreasing sequences; an outlier is\n",
    "#rule 60, the only rule whose gaps line in the plot above is not also strictly increasing.  We take a look below at \n",
    "#the sequence for this rule, as well as its evolution plot\n",
    "kept_gaps[60]"
   ]
  },
  {
   "cell_type": "code",
   "execution_count": 126,
   "metadata": {},
   "outputs": [
    {
     "data": {
      "text/plain": [
       "[1.0,\n",
       " 3.0,\n",
       " 5.0,\n",
       " 15.0,\n",
       " 17.0,\n",
       " 51.0,\n",
       " 85.0,\n",
       " 255.0,\n",
       " 257.0,\n",
       " 771.0,\n",
       " 1285.0,\n",
       " 3855.0,\n",
       " 4369.0,\n",
       " 13107.0,\n",
       " 21845.0,\n",
       " 65535.0,\n",
       " 65537.0,\n",
       " 196611.0,\n",
       " 327685.0,\n",
       " 983055.0,\n",
       " 1114129.0,\n",
       " 3342387.0,\n",
       " 5570645.0,\n",
       " 16711935.0,\n",
       " 16843009.0,\n",
       " 50529027.0,\n",
       " 84215045.0,\n",
       " 252645135.0,\n",
       " 286331153.0,\n",
       " 858993459.0,\n",
       " 1431655765.0,\n",
       " 4294967295.0,\n",
       " 4294967297.0,\n",
       " 12884901891.0,\n",
       " 21474836485.0,\n",
       " 64424509455.0,\n",
       " 73014444049.0,\n",
       " 219043332147.0,\n",
       " 365072220245.0,\n",
       " 1095216660735.0,\n",
       " 1103806595329.0,\n",
       " 3311419785987.0,\n",
       " 5519032976645.0,\n",
       " 16557098929935.0,\n",
       " 18764712120593.0,\n",
       " 56294136361779.0,\n",
       " 93823560602965.0,\n",
       " 281470681808895.0,\n",
       " 281479271743489.0,\n",
       " 844437815230467.0,\n",
       " 1407396358717445.0]"
      ]
     },
     "execution_count": 126,
     "metadata": {},
     "output_type": "execute_result"
    },
    {
     "data": {
      "image/png": "[encoded data removed]",
      "text/plain": [
       "<Figure size 432x288 with 1 Axes>"
      ]
     },
     "metadata": {
      "needs_background": "light"
     },
     "output_type": "display_data"
    }
   ],
   "source": [
    "z = create_1d_grid(100)\n",
    "z[49] = 1\n",
    "plot_1d_CA(z, 60, 50, sequence_start = 49)"
   ]
  },
  {
   "cell_type": "markdown",
   "metadata": {},
   "source": [
    "## 2D Cellular Automata:\n",
    "\n",
    "Now we move on to implementing two-dimensional cellular automata.  In this case, a neighborhood consists of nine cells.  The evolution rules will no longer be a 1-1 mapping of possible neighborhood states to outcomes, but will be based instead on aggregate statistics of the neighborhood (e.g. total number of 'on' or 'off' cells, etc.) "
   ]
  },
  {
   "cell_type": "code",
   "execution_count": 342,
   "metadata": {},
   "outputs": [],
   "source": [
    "#We start by creating a function that produces a 2D grid, either with random values or with all zeros;\n",
    "#we then write our functions for simulating and plotting the CA which results from a given rule\n",
    "\n",
    "def create_2d_grid(rows, columns, random = True):\n",
    "    '''\n",
    "    Creates a two-dimensional grid of numbers\n",
    "    \n",
    "    rows: (int) number of rows\n",
    "    columns: (int) number of columns\n",
    "    random: (bool) if True, then the grid values are randomly either zero or one; if False, then all are zero\n",
    "    \n",
    "    returns: 2D array\n",
    "    '''\n",
    "    if random:\n",
    "        return np.random.randint(0, 2, (rows, columns))\n",
    "    return np.zeros((rows,columns))\n",
    "\n",
    "\n",
    "#let's define a first rule function.  We'll use the same parameters as in Conway's 'game of life'; we are ultimately\n",
    "#going to let the simulate_2d_CA function take an arbitrary rule function as input though\n",
    "\n",
    "def game_of_life(array, position):\n",
    "    '''\n",
    "    Takes an array and coordinates for a cell in that array and updates the cell based on Conway's 'game of life' rules\n",
    "    \n",
    "    array: 2D array\n",
    "    position: (tuple) (row, column) position of cell\n",
    "    \n",
    "    returns: (int) either 0 or 1\n",
    "    '''\n",
    "    u = position[0]\n",
    "    v = position[1]\n",
    "    neighbor_sum = 0\n",
    "    for i in range(-1, 2):\n",
    "        for j in range(-1, 2):\n",
    "            neighbor_sum += array[(u+i) % len(array), (v+j) % len(array[0])]\n",
    "    neighbor_sum -= array[u,v]\n",
    "    \n",
    "    if array[position] == 0:\n",
    "        if neighbor_sum == 3:\n",
    "            return 1\n",
    "        else:\n",
    "            return 0\n",
    "    else:\n",
    "        if neighbor_sum == 2 or neighbor_sum == 3:\n",
    "            return 1\n",
    "        else:\n",
    "            return 0"
   ]
  },
  {
   "cell_type": "code",
   "execution_count": 346,
   "metadata": {},
   "outputs": [
    {
     "data": {
      "text/plain": [
       "array([[1, 1, 1, 0, 0, 1, 1, 0, 1, 1],\n",
       "       [0, 1, 0, 1, 1, 1, 0, 0, 0, 0],\n",
       "       [0, 0, 0, 0, 1, 0, 0, 0, 1, 1],\n",
       "       [0, 0, 1, 1, 1, 1, 1, 1, 0, 1],\n",
       "       [0, 0, 1, 1, 0, 0, 0, 0, 1, 0],\n",
       "       [1, 1, 0, 1, 0, 1, 0, 0, 1, 0],\n",
       "       [0, 0, 0, 0, 1, 1, 0, 1, 0, 0],\n",
       "       [0, 1, 1, 1, 1, 1, 0, 0, 0, 0],\n",
       "       [1, 0, 1, 1, 1, 1, 0, 1, 1, 1],\n",
       "       [1, 0, 1, 1, 1, 1, 1, 1, 0, 1]])"
      ]
     },
     "execution_count": 346,
     "metadata": {},
     "output_type": "execute_result"
    }
   ],
   "source": [
    "f = create_2d_grid(10,10)\n",
    "f"
   ]
  },
  {
   "cell_type": "code",
   "execution_count": 155,
   "metadata": {},
   "outputs": [
    {
     "data": {
      "text/plain": [
       "array([[0., 0., 0., 0., 1.],\n",
       "       [0., 0., 1., 0., 0.],\n",
       "       [0., 0., 0., 0., 0.],\n",
       "       [0., 0., 0., 0., 0.],\n",
       "       [0., 0., 0., 0., 0.]])"
      ]
     },
     "execution_count": 155,
     "metadata": {},
     "output_type": "execute_result"
    }
   ],
   "source": [
    "g = create_2d_grid(5,5, random = False)     #we test the game of life function\n",
    "for i in range(5):\n",
    "    for j in range(5):\n",
    "        g[i,j] = game_of_life(f, (i,j))\n",
    "g"
   ]
  },
  {
   "cell_type": "code",
   "execution_count": 338,
   "metadata": {},
   "outputs": [],
   "source": [
    "#now for the simulate_2d_CA function\n",
    "\n",
    "def simulate_2d_CA(array, rule, n_steps, rule_type = True):\n",
    "    '''\n",
    "    Takes a two-dimensional array and an evolution rule and simulates a CA for 'n_steps' steps\n",
    "    \n",
    "    array: 2D array\n",
    "    rule: (function) evolution rule\n",
    "    n_steps: (int) number of time steps in simulation\n",
    "    rule_type: if True, then the rule function updates a single value; if False, it updates the whole array\n",
    "    \n",
    "    returns: (array) 3d array, effectively a list of all 2d grid states\n",
    "    '''\n",
    "    u = len(array)\n",
    "    v = len(array[0])\n",
    "    output = []\n",
    "    output.append(array)\n",
    "    initial_grid = array\n",
    "    if rule_type:\n",
    "        for i in range(n_steps):\n",
    "            new_grid = create_2d_grid(u, v, random = False)\n",
    "            for j in range(u):\n",
    "                for k in range(v):\n",
    "                    new_grid[j, k] = rule(initial_grid, (j, k))\n",
    "            output.append(new_grid)\n",
    "            initial_grid = new_grid\n",
    "    else:\n",
    "        for i in range(n_steps):\n",
    "            new_grid = rule(initial_grid)\n",
    "            output.append(new_grid)\n",
    "            initial_grid = new_grid\n",
    "    return np.array(output)"
   ]
  },
  {
   "cell_type": "code",
   "execution_count": 347,
   "metadata": {},
   "outputs": [
    {
     "data": {
      "text/plain": [
       "array([[[1., 1., 1., 0., 0., 1., 1., 0., 1., 1.],\n",
       "        [0., 1., 0., 1., 1., 1., 0., 0., 0., 0.],\n",
       "        [0., 0., 0., 0., 1., 0., 0., 0., 1., 1.],\n",
       "        [0., 0., 1., 1., 1., 1., 1., 1., 0., 1.],\n",
       "        [0., 0., 1., 1., 0., 0., 0., 0., 1., 0.],\n",
       "        [1., 1., 0., 1., 0., 1., 0., 0., 1., 0.],\n",
       "        [0., 0., 0., 0., 1., 1., 0., 1., 0., 0.],\n",
       "        [0., 1., 1., 1., 1., 1., 0., 0., 0., 0.],\n",
       "        [1., 0., 1., 1., 1., 1., 0., 1., 1., 1.],\n",
       "        [1., 0., 1., 1., 1., 1., 1., 1., 0., 1.]],\n",
       "\n",
       "       [[0., 0., 0., 0., 0., 0., 0., 0., 1., 0.],\n",
       "        [0., 1., 0., 1., 0., 0., 1., 1., 0., 0.],\n",
       "        [1., 0., 0., 0., 0., 0., 0., 1., 1., 1.],\n",
       "        [0., 0., 1., 0., 0., 1., 1., 1., 0., 1.],\n",
       "        [1., 0., 0., 0., 0., 0., 0., 0., 1., 0.],\n",
       "        [0., 1., 0., 1., 0., 1., 1., 1., 1., 1.],\n",
       "        [1., 0., 0., 0., 0., 0., 0., 0., 0., 0.],\n",
       "        [1., 1., 0., 0., 0., 0., 0., 1., 0., 1.],\n",
       "        [0., 0., 0., 0., 0., 0., 0., 1., 0., 0.],\n",
       "        [0., 0., 0., 0., 0., 0., 0., 0., 0., 0.]],\n",
       "\n",
       "       [[0., 0., 0., 0., 0., 0., 0., 1., 0., 0.],\n",
       "        [1., 0., 0., 0., 0., 0., 1., 0., 0., 0.],\n",
       "        [1., 1., 1., 0., 0., 1., 0., 0., 0., 1.],\n",
       "        [0., 1., 0., 0., 0., 0., 1., 0., 0., 0.],\n",
       "        [1., 1., 1., 0., 1., 0., 0., 0., 0., 0.],\n",
       "        [0., 1., 0., 0., 0., 0., 1., 1., 1., 0.],\n",
       "        [0., 0., 1., 0., 0., 0., 0., 0., 0., 0.],\n",
       "        [1., 1., 0., 0., 0., 0., 0., 0., 1., 1.],\n",
       "        [1., 0., 0., 0., 0., 0., 0., 0., 1., 0.],\n",
       "        [0., 0., 0., 0., 0., 0., 0., 0., 0., 0.]],\n",
       "\n",
       "       [[0., 0., 0., 0., 0., 0., 0., 0., 0., 0.],\n",
       "        [1., 0., 0., 0., 0., 0., 1., 0., 0., 1.],\n",
       "        [0., 0., 1., 0., 0., 1., 1., 0., 0., 1.],\n",
       "        [0., 0., 0., 1., 0., 1., 0., 0., 0., 1.],\n",
       "        [1., 0., 1., 0., 0., 1., 1., 0., 0., 0.],\n",
       "        [1., 0., 0., 1., 0., 0., 0., 1., 0., 0.],\n",
       "        [0., 0., 1., 0., 0., 0., 0., 0., 0., 0.],\n",
       "        [1., 1., 0., 0., 0., 0., 0., 0., 1., 0.],\n",
       "        [1., 1., 0., 0., 0., 0., 0., 0., 1., 0.],\n",
       "        [0., 0., 0., 0., 0., 0., 0., 0., 0., 0.]],\n",
       "\n",
       "       [[0., 0., 0., 0., 0., 0., 0., 0., 0., 0.],\n",
       "        [1., 0., 0., 0., 0., 1., 1., 0., 0., 1.],\n",
       "        [0., 0., 0., 0., 1., 1., 1., 0., 1., 1.],\n",
       "        [1., 1., 1., 1., 0., 0., 0., 0., 0., 1.],\n",
       "        [1., 1., 1., 1., 0., 1., 1., 0., 0., 1.],\n",
       "        [0., 0., 1., 1., 0., 0., 1., 0., 0., 0.],\n",
       "        [1., 0., 1., 0., 0., 0., 0., 0., 0., 1.],\n",
       "        [1., 0., 1., 0., 0., 0., 0., 0., 0., 0.],\n",
       "        [1., 1., 0., 0., 0., 0., 0., 0., 0., 0.],\n",
       "        [0., 0., 0., 0., 0., 0., 0., 0., 0., 0.]],\n",
       "\n",
       "       [[0., 0., 0., 0., 0., 0., 0., 0., 0., 0.],\n",
       "        [1., 0., 0., 0., 1., 0., 1., 1., 1., 1.],\n",
       "        [0., 0., 1., 1., 1., 0., 1., 1., 1., 0.],\n",
       "        [0., 0., 0., 0., 0., 0., 0., 1., 0., 0.],\n",
       "        [0., 0., 0., 0., 0., 1., 1., 0., 0., 1.],\n",
       "        [0., 0., 0., 0., 1., 1., 1., 0., 0., 0.],\n",
       "        [1., 0., 1., 0., 0., 0., 0., 0., 0., 1.],\n",
       "        [0., 0., 1., 0., 0., 0., 0., 0., 0., 0.],\n",
       "        [1., 1., 0., 0., 0., 0., 0., 0., 0., 0.],\n",
       "        [0., 0., 0., 0., 0., 0., 0., 0., 0., 0.]]])"
      ]
     },
     "execution_count": 347,
     "metadata": {},
     "output_type": "execute_result"
    }
   ],
   "source": [
    "simulate_2d_CA(f, game_of_life, 5)     #test the function"
   ]
  },
  {
   "cell_type": "code",
   "execution_count": 353,
   "metadata": {},
   "outputs": [],
   "source": [
    "#now we explore how to plot the evolution of a 2d array.  We'll first try simply producing a fixed number of keyframes.  \n",
    "#Then, we'll make an interactive tool which can explore the grid's evolution in full\n",
    "\n",
    "def plot_2d_CA(array, rule, n_steps, n_images, rule_type = True, rule_name = None):\n",
    "    '''\n",
    "    Simulates a 2d CA with given rule and step count and plots n_images many frames of the output (in different figures)\n",
    "    \n",
    "    array: 2d array\n",
    "    rule: (function) evolution rule\n",
    "    n_steps: (int) number of time steps\n",
    "    n_images: (int) number of output images, each evenly spaced within the total output\n",
    "    rule_name: (str) name of rule to be used in title\n",
    "    '''\n",
    "    y = simulate_2d_CA(array, rule, n_steps, rule_type = rule_type)\n",
    "    for i in range(n_images):\n",
    "        fig = plt.figure()\n",
    "        number = (n_steps // n_images) * i\n",
    "        im = plt.imshow(y[number], cmap = 'cividis')\n",
    "        if rule_name == None:\n",
    "            plt.title('2D CA--frame {}'.format(number))\n",
    "        else:\n",
    "            plt.title('2D CA--{}--frame {}'.format(rule_name, number))\n",
    "        plt.xlabel('Cell Index - x')\n",
    "        plt.ylabel('Cell Index - y')\n",
    "    \n",
    "        #The following three lines are based on code found at \n",
    "        #https://stackoverflow.com/questions/25482876/how-to-add-legend-to-imshow-in-matplotlib\n",
    "        colors = [im.cmap(im.norm(value)) for value in [0, 1]] \n",
    "        patches = [mpatches.Patch(color=colors[0], label=\"Zero\"), mpatches.Patch(color=colors[1], label = 'One')]\n",
    "        plt.legend(handles=patches, bbox_to_anchor=(1.05, 1), loc=2, borderaxespad=0.)"
   ]
  },
  {
   "cell_type": "code",
   "execution_count": 351,
   "metadata": {},
   "outputs": [
    {
     "data": {
      "image/png": "[encoded data removed]",
      "text/plain": [
       "<Figure size 432x288 with 1 Axes>"
      ]
     },
     "metadata": {
      "needs_background": "light"
     },
     "output_type": "display_data"
    },
    {
     "data": {
      "image/png": "[encoded data removed]",
      "text/plain": [
       "<Figure size 432x288 with 1 Axes>"
      ]
     },
     "metadata": {
      "needs_background": "light"
     },
     "output_type": "display_data"
    },
    {
     "data": {
      "image/png": "[encoded data removed]",
      "text/plain": [
       "<Figure size 432x288 with 1 Axes>"
      ]
     },
     "metadata": {
      "needs_background": "light"
     },
     "output_type": "display_data"
    },
    {
     "data": {
      "image/png": "[encoded data removed]",
      "text/plain": [
       "<Figure size 432x288 with 1 Axes>"
      ]
     },
     "metadata": {
      "needs_background": "light"
     },
     "output_type": "display_data"
    },
    {
     "data": {
      "image/png": "[encoded data removed]",
      "text/plain": [
       "<Figure size 432x288 with 1 Axes>"
      ]
     },
     "metadata": {
      "needs_background": "light"
     },
     "output_type": "display_data"
    }
   ],
   "source": [
    "f = create_2d_grid(7,7)\n",
    "plot_2d_CA(f, game_of_life, 20, 5)     #test the function"
   ]
  },
  {
   "cell_type": "code",
   "execution_count": 354,
   "metadata": {},
   "outputs": [],
   "source": [
    "#now we make a function which produces an interactive plot of the system\n",
    "\n",
    "from __future__ import print_function\n",
    "from ipywidgets import interact, interactive, fixed, interact_manual\n",
    "import ipywidgets as widgets\n",
    "\n",
    "def interactive_2d_CA(array, rule, n_steps, rule_type = True, rule_name = None):\n",
    "    '''\n",
    "    Produces an interactive plot of the evolution of a 2d CA\n",
    "    \n",
    "    Inputs: all as above\n",
    "    \n",
    "    returns: plot with interactive slider\n",
    "    '''\n",
    "    y = simulate_2d_CA(array, rule, n_steps, rule_type = rule_type)\n",
    "    def p(i):\n",
    "        fig, ax = plt.subplots()\n",
    "        number = i\n",
    "        im = ax.imshow(y[i], cmap = 'cividis')\n",
    "    \n",
    "        if rule_name == None:\n",
    "            plt.title('2D CA--frame {}'.format(number))\n",
    "        else:\n",
    "            plt.title('2D CA--{}--frame {}'.format(rule_name, number))\n",
    "        plt.xlabel('Cell Index - x')\n",
    "        plt.ylabel('Cell Index - y')\n",
    "    \n",
    "        #The following three lines are based on code found at \n",
    "        #https://stackoverflow.com/questions/25482876/how-to-add-legend-to-imshow-in-matplotlib\n",
    "        colors = [im.cmap(im.norm(value)) for value in [0, 1]] \n",
    "        patches = [mpatches.Patch(color=colors[0], label=\"Zero\"), mpatches.Patch(color=colors[1], label = 'One')]\n",
    "        plt.legend(handles=patches, bbox_to_anchor=(1.05, 1), loc=2, borderaxespad=0.)\n",
    "    \n",
    "    interact(p, i = widgets.IntSlider(min = 0, max = n_steps))"
   ]
  },
  {
   "cell_type": "code",
   "execution_count": 355,
   "metadata": {},
   "outputs": [
    {
     "data": {
      "application/vnd.jupyter.widget-view+json": {
       "model_id": "989a742b3b7e459eb898a6586af67289",
       "version_major": 2,
       "version_minor": 0
      },
      "text/plain": [
       "interactive(children=(IntSlider(value=0, description='i', max=10), Output()), _dom_classes=('widget-interact',…"
      ]
     },
     "metadata": {},
     "output_type": "display_data"
    }
   ],
   "source": [
    "f = create_2d_grid(10, 10)     #test the function\n",
    "interactive_2d_CA(f, game_of_life, 10)"
   ]
  },
  {
   "cell_type": "code",
   "execution_count": 333,
   "metadata": {},
   "outputs": [],
   "source": [
    "#Now we experiment with new rules of evolution for 2d CA.  Namely, we'll implement a new rule function meant to implement\n",
    "#the falling of many massive particles (e.g. sand)\n",
    "\n",
    "#we want the rule to be such that a particle will fall straight down if the space below them is not blocked,\n",
    "#either to the left or right with equal probability if it is blocked, to the left or right with probability one if two of\n",
    "#the three cells below are blocked, and will stay put o/w\n",
    "\n",
    "#to implement this rule function, it will be easiest to construct it such that it takes an input array and outputs an entire\n",
    "#new array, rather than looking at a single position in an input array and outputting one or zero\n",
    "\n",
    "def falling_sand(array):\n",
    "    '''\n",
    "    Function for simulating falling particles; particles will fall straight down unless blocked, in which case they'll fall \n",
    "    down-left or down-right with equal chance; periodic boundary conditions are not in effect--the bottom and sides are 'hard'\n",
    "    \n",
    "    Input: as before\n",
    "    \n",
    "    returns: new array\n",
    "    '''\n",
    "    N = len(array)\n",
    "    M = len(array[0])\n",
    "    output_array = np.zeros((N, M))\n",
    "    for i in range(N):\n",
    "        for j in range(M):\n",
    "            output_array[i,j] = array[i,j]\n",
    "    \n",
    "    for i in range(N-1, -1, -1):\n",
    "        for j in range(M):\n",
    "            if array[i,j] == 1 and i != N - 1:\n",
    "                space_below = False\n",
    "                for k in range(1, N - i):\n",
    "                    if output_array[i+k, j] == 0:\n",
    "                        space_below = True\n",
    "                if space_below == True:\n",
    "                    if i != 0:\n",
    "                        if array[i-1,j] == 0:\n",
    "                            output_array[i,j] = 0\n",
    "                        if output_array[i+1, j] == 0:\n",
    "                            output_array[i+1, j] = 1\n",
    "                    else:\n",
    "                        output_array[i,j] = 0\n",
    "                else:\n",
    "                    if j == 0:\n",
    "                        if output_array[i+1,j+1] == 0:\n",
    "                            output_array[i+1,j+1] =1\n",
    "                            output_array[i,j] = 0\n",
    "                    if j == M - 1:\n",
    "                        if output_array[i+1,j-1] == 0:\n",
    "                            output_array[i+1,j-1] = 1\n",
    "                            output_array[i,j] = 0\n",
    "                    \n",
    "                    else:\n",
    "                        if output_array[i+1, j-1] == 0 and output_array[i+1,j+1] == 1:\n",
    "                            output_array[i+1, j-1] = 1\n",
    "                            output_array[i,j] = 0\n",
    "                        elif output_array[i+1, j-1] == 1 and output_array[i+1, j+1] == 0:\n",
    "                            output_array[i+1,j+1] = 1\n",
    "                            output_array[i,j] = 0\n",
    "                        elif output_array[i+1,j+1] == 0 and output_array[i+1,j-1] == 0:\n",
    "                            r = np.random.random()\n",
    "                            if r > 0.5:\n",
    "                                output_array[i+1,j+1] = 1\n",
    "                                output_array[i,j] = 0\n",
    "                            else:\n",
    "                                output_array[i+1, j-1] = 1\n",
    "                                output_array[i,j] = 0\n",
    "    return output_array\n",
    "                \n",
    "                            \n",
    "            "
   ]
  },
  {
   "cell_type": "code",
   "execution_count": 334,
   "metadata": {},
   "outputs": [
    {
     "data": {
      "text/plain": [
       "array([[0, 0, 1, 1, 1, 1, 0, 0, 1, 0],\n",
       "       [0, 0, 0, 1, 0, 1, 1, 0, 0, 0],\n",
       "       [0, 1, 1, 0, 1, 0, 0, 0, 0, 0],\n",
       "       [1, 1, 1, 1, 0, 0, 0, 1, 1, 0],\n",
       "       [1, 1, 0, 0, 0, 0, 0, 0, 0, 0],\n",
       "       [0, 1, 1, 1, 1, 1, 1, 1, 0, 0],\n",
       "       [0, 1, 0, 1, 1, 0, 1, 1, 1, 0],\n",
       "       [1, 0, 0, 0, 0, 1, 1, 1, 0, 0],\n",
       "       [0, 0, 0, 0, 0, 0, 1, 0, 0, 1],\n",
       "       [1, 0, 0, 0, 1, 0, 1, 0, 1, 0]])"
      ]
     },
     "execution_count": 334,
     "metadata": {},
     "output_type": "execute_result"
    }
   ],
   "source": [
    "f = create_2d_grid(10, 10)\n",
    "f"
   ]
  },
  {
   "cell_type": "code",
   "execution_count": 335,
   "metadata": {},
   "outputs": [
    {
     "data": {
      "text/plain": [
       "array([[0., 0., 0., 0., 0., 0., 0., 0., 0., 0.],\n",
       "       [0., 0., 0., 1., 0., 1., 0., 0., 0., 0.],\n",
       "       [0., 0., 0., 1., 0., 1., 1., 0., 0., 0.],\n",
       "       [0., 1., 1., 0., 1., 0., 0., 0., 0., 0.],\n",
       "       [1., 1., 1., 1., 0., 0., 0., 1., 1., 0.],\n",
       "       [1., 1., 0., 0., 0., 0., 0., 0., 0., 0.],\n",
       "       [0., 1., 1., 1., 1., 1., 1., 1., 0., 0.],\n",
       "       [0., 1., 0., 1., 1., 1., 1., 1., 1., 0.],\n",
       "       [1., 0., 0., 0., 0., 1., 1., 1., 0., 0.],\n",
       "       [1., 0., 0., 0., 1., 1., 1., 0., 1., 1.]])"
      ]
     },
     "execution_count": 335,
     "metadata": {},
     "output_type": "execute_result"
    }
   ],
   "source": [
    "falling_sand(f)     #test the function"
   ]
  },
  {
   "cell_type": "code",
   "execution_count": 358,
   "metadata": {},
   "outputs": [
    {
     "data": {
      "application/vnd.jupyter.widget-view+json": {
       "model_id": "9bd0aa424d394618925b547f44a39c1e",
       "version_major": 2,
       "version_minor": 0
      },
      "text/plain": [
       "interactive(children=(IntSlider(value=0, description='i', max=20), Output()), _dom_classes=('widget-interact',…"
      ]
     },
     "metadata": {},
     "output_type": "display_data"
    }
   ],
   "source": [
    "h = create_2d_grid(30,30)     #the function looks to be behaving as expected\n",
    "interactive_2d_CA(h, falling_sand, 20, rule_type = False)"
   ]
  },
  {
   "cell_type": "code",
   "execution_count": 359,
   "metadata": {},
   "outputs": [
    {
     "data": {
      "image/png": "[encoded data removed]",
      "text/plain": [
       "<Figure size 432x288 with 1 Axes>"
      ]
     },
     "metadata": {
      "needs_background": "light"
     },
     "output_type": "display_data"
    },
    {
     "data": {
      "image/png": "[encoded data removed]",
      "text/plain": [
       "<Figure size 432x288 with 1 Axes>"
      ]
     },
     "metadata": {
      "needs_background": "light"
     },
     "output_type": "display_data"
    },
    {
     "data": {
      "image/png": "[encoded data removed]",
      "text/plain": [
       "<Figure size 432x288 with 1 Axes>"
      ]
     },
     "metadata": {
      "needs_background": "light"
     },
     "output_type": "display_data"
    },
    {
     "data": {
      "image/png": "[encoded data removed]",
      "text/plain": [
       "<Figure size 432x288 with 1 Axes>"
      ]
     },
     "metadata": {
      "needs_background": "light"
     },
     "output_type": "display_data"
    },
    {
     "data": {
      "image/png": "[encoded data removed]",
      "text/plain": [
       "<Figure size 432x288 with 1 Axes>"
      ]
     },
     "metadata": {
      "needs_background": "light"
     },
     "output_type": "display_data"
    }
   ],
   "source": [
    "plot_2d_CA(h, falling_sand, 20, 5, rule_type = False)"
   ]
  },
  {
   "cell_type": "code",
   "execution_count": null,
   "metadata": {},
   "outputs": [],
   "source": []
  }
 ],
 "metadata": {
  "kernelspec": {
   "display_name": "Python 3",
   "language": "python",
   "name": "python3"
  },
  "language_info": {
   "codemirror_mode": {
    "name": "ipython",
    "version": 3
   },
   "file_extension": ".py",
   "mimetype": "text/x-python",
   "name": "python",
   "nbconvert_exporter": "python",
   "pygments_lexer": "ipython3",
   "version": "3.7.0"
  }
 },
 "nbformat": 4,
 "nbformat_minor": 2
}
